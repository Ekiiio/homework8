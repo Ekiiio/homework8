{
  "nbformat": 4,
  "nbformat_minor": 0,
  "metadata": {
    "colab": {
      "provenance": [],
      "include_colab_link": true
    },
    "kernelspec": {
      "name": "python3",
      "display_name": "Python 3"
    },
    "language_info": {
      "name": "python"
    }
  },
  "cells": [
    {
      "cell_type": "markdown",
      "metadata": {
        "id": "view-in-github",
        "colab_type": "text"
      },
      "source": [
        "<a href=\"https://colab.research.google.com/github/Ekiiio/homework8/blob/main/Comprehension.ipynb\" target=\"_parent\"><img src=\"https://colab.research.google.com/assets/colab-badge.svg\" alt=\"Open In Colab\"/></a>"
      ]
    },
    {
      "cell_type": "markdown",
      "source": [
        "## List Comprehension\n",
        "[Video](https://drive.google.com/file/d/119xERT3_QqIzec6csrVuYjbnel-PheEC/view?usp=sharing)"
      ],
      "metadata": {
        "id": "Ophg0Cfr6Dze"
      }
    },
    {
      "cell_type": "markdown",
      "source": [
        "- Using a for loop to iterate through a list."
      ],
      "metadata": {
        "id": "_jMwhslmC9rL"
      }
    },
    {
      "cell_type": "code",
      "source": [
        "#列表推导式是 Python 中一种快速创建新列表的简洁语法，可以用一行代码代替传统的 for 循环。它的核心思想是：对现有列表中的元素进行转换或筛选，生成新列表。"
      ],
      "metadata": {
        "id": "0_CD5aAaBxs9"
      },
      "execution_count": null,
      "outputs": []
    },
    {
      "cell_type": "code",
      "execution_count": 1,
      "metadata": {
        "id": "eEe-Mu6jR4QL",
        "outputId": "7098c947-fac7-4bd3-9114-08f62c5202df",
        "colab": {
          "base_uri": "https://localhost:8080/"
        }
      },
      "outputs": [
        {
          "output_type": "stream",
          "name": "stdout",
          "text": [
            "[1, 2, 3, 4, 5, 6, 7, 8, 9, 10]\n"
          ]
        }
      ],
      "source": [
        "nums = [1,2,3,4,5,6,7,8,9,10]\n",
        "\n",
        "my_list = []\n",
        "for n in nums:\n",
        "  my_list.append(n)\n",
        "print(my_list)"
      ]
    },
    {
      "cell_type": "markdown",
      "source": [
        "- Using a for loop to square all the elements in the list."
      ],
      "metadata": {
        "id": "WadxDmQIDAYy"
      }
    },
    {
      "cell_type": "code",
      "source": [
        "my_list = []\n",
        "for n in nums:\n",
        "  my_list.append(n*n)\n",
        "print(my_list)"
      ],
      "metadata": {
        "id": "-8YfroJuSB0J",
        "outputId": "ed0053d9-06a8-4acb-e080-382d987bfc93",
        "colab": {
          "base_uri": "https://localhost:8080/"
        }
      },
      "execution_count": 2,
      "outputs": [
        {
          "output_type": "stream",
          "name": "stdout",
          "text": [
            "[1, 4, 9, 16, 25, 36, 49, 64, 81, 100]\n"
          ]
        }
      ]
    },
    {
      "cell_type": "markdown",
      "source": [
        "- Using a map + lambda"
      ],
      "metadata": {
        "id": "HAF5dDQNFnvb"
      }
    },
    {
      "cell_type": "code",
      "source": [
        "my_list = list(map(lambda n: n*n, nums))\n",
        "print(my_list)"
      ],
      "metadata": {
        "id": "dnzaNHGtDK8C",
        "outputId": "d0ddb633-2862-4355-ba60-a73b5a4a07d4",
        "colab": {
          "base_uri": "https://localhost:8080/"
        }
      },
      "execution_count": 3,
      "outputs": [
        {
          "output_type": "stream",
          "name": "stdout",
          "text": [
            "[1, 4, 9, 16, 25, 36, 49, 64, 81, 100]\n"
          ]
        }
      ]
    },
    {
      "cell_type": "markdown",
      "source": [
        "- List comprehensions are another notation for defining lists. They mimic the mathematical notation of “set comprehensions” and have a concise syntax.\n",
        "- In one step, list comprehensions can perform the combined operation of any filter and map.\n",
        "\n",
        "```\n",
        "[ <expresion> for <element> in <list>]\n",
        "```"
      ],
      "metadata": {
        "id": "tzHjJ75xLyBT"
      }
    },
    {
      "cell_type": "code",
      "source": [
        "[n*n for n in nums]"
      ],
      "metadata": {
        "id": "nFGrp3euMiwx",
        "outputId": "bc6617cb-1c95-4c6b-f2d1-f63208feb255",
        "colab": {
          "base_uri": "https://localhost:8080/"
        }
      },
      "execution_count": 4,
      "outputs": [
        {
          "output_type": "execute_result",
          "data": {
            "text/plain": [
              "[1, 4, 9, 16, 25, 36, 49, 64, 81, 100]"
            ]
          },
          "metadata": {},
          "execution_count": 4
        }
      ]
    },
    {
      "cell_type": "markdown",
      "source": [
        "- We only square the element in the list if the element is even."
      ],
      "metadata": {
        "id": "WIEw0JdNNAxU"
      }
    },
    {
      "cell_type": "code",
      "source": [
        "my_list = []\n",
        "for n in nums:\n",
        "   if n%2 == 0:\n",
        "     my_list.append(n)\n",
        "print(my_list)"
      ],
      "metadata": {
        "id": "hLpYk_wODOGy",
        "outputId": "837918a8-4f4d-418c-d687-eead1f2d2776",
        "colab": {
          "base_uri": "https://localhost:8080/"
        }
      },
      "execution_count": 5,
      "outputs": [
        {
          "output_type": "stream",
          "name": "stdout",
          "text": [
            "[2, 4, 6, 8, 10]\n"
          ]
        }
      ]
    },
    {
      "cell_type": "markdown",
      "source": [
        "- We can also use list comprehension. The syntax for if conditions in the list comprehension is as follows.\n",
        "```\n",
        "[ <expresion> for <element> in <list> if <boolean>]\n",
        "```"
      ],
      "metadata": {
        "id": "ThdoZae7MjXP"
      }
    },
    {
      "cell_type": "code",
      "source": [
        "[n*n for n in nums if n%2 == 0]"
      ],
      "metadata": {
        "id": "rw_RLmtLNPyx",
        "outputId": "6703fce8-0995-4cb9-879a-ccf03272fab7",
        "colab": {
          "base_uri": "https://localhost:8080/"
        }
      },
      "execution_count": 6,
      "outputs": [
        {
          "output_type": "execute_result",
          "data": {
            "text/plain": [
              "[4, 16, 36, 64, 100]"
            ]
          },
          "metadata": {},
          "execution_count": 6
        }
      ]
    },
    {
      "cell_type": "markdown",
      "source": [
        "- Consider the list comprehension that squares even element in a list and adds two to every odd element, as follows:"
      ],
      "metadata": {
        "id": "08EIsSfcQBsN"
      }
    },
    {
      "cell_type": "code",
      "source": [
        "[ x* x if x%2 == 0 else x+2 for x in [1, 2, 3, 4, 5] ]"
      ],
      "metadata": {
        "id": "0edMERJ06EqK",
        "outputId": "4643640c-4b1a-4dc8-86c1-cbd1103497c3",
        "colab": {
          "base_uri": "https://localhost:8080/"
        }
      },
      "execution_count": 8,
      "outputs": [
        {
          "output_type": "execute_result",
          "data": {
            "text/plain": [
              "[3, 4, 5, 16, 7]"
            ]
          },
          "metadata": {},
          "execution_count": 8
        }
      ]
    },
    {
      "cell_type": "markdown",
      "source": [
        "### Homework\n",
        "- Define a function `list_comp(input_list)`, that uses list comprehension to assign `a` to the numbers greater than 8; `b` to the numbers less or equal to 8 and greater than 5; `c` to everything else.\n",
        "- You can assume that all the elements in the `input_list` are integers.\n",
        "  - E.g. `list_comp(range(1, 11))` => `['c', 'c', 'c', 'c', 'c', 'b', 'b', 'b', 'a', 'a']`"
      ],
      "metadata": {
        "id": "2hwiOt0qwXBk"
      }
    },
    {
      "cell_type": "code",
      "source": [
        "def list_comp(input_list):\n",
        "    \"\"\"\n",
        "    :param input_list: a list of integers\n",
        "    :return: Assign `a` to the numbers greater than 8; `b` to the numbers less\n",
        "    or equal to 8 and greater than 5; `c` to everything else\n",
        "    \"\"\"\n",
        "    # Your code here\n",
        "    pass"
      ],
      "metadata": {
        "id": "2RowLNCVQHy7"
      },
      "execution_count": null,
      "outputs": []
    }
  ]
}