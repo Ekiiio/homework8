{
  "nbformat": 4,
  "nbformat_minor": 0,
  "metadata": {
    "colab": {
      "provenance": [],
      "include_colab_link": true
    },
    "kernelspec": {
      "name": "python3",
      "display_name": "Python 3"
    },
    "language_info": {
      "name": "python"
    }
  },
  "cells": [
    {
      "cell_type": "markdown",
      "metadata": {
        "id": "view-in-github",
        "colab_type": "text"
      },
      "source": [
        "<a href=\"https://colab.research.google.com/github/Ekiiio/homework8/blob/main/lambda.ipynb\" target=\"_parent\"><img src=\"https://colab.research.google.com/assets/colab-badge.svg\" alt=\"Open In Colab\"/></a>"
      ]
    },
    {
      "cell_type": "markdown",
      "source": [
        "## `lambda` function\n",
        "[Video](https://drive.google.com/file/d/10gjUrxGP0mt_USvL-KCRQt909qSQJ4I-/view?usp=sharing)"
      ],
      "metadata": {
        "id": "qiT576Ve6Cgz"
      }
    },
    {
      "cell_type": "markdown",
      "source": [
        "- Create an example list"
      ],
      "metadata": {
        "id": "UNMxKNQlWfCe"
      }
    },
    {
      "cell_type": "code",
      "execution_count": 10,
      "metadata": {
        "id": "UwwLVBpsWfCf",
        "outputId": "9192622a-3643-411f-a1be-e0bd262f49f5",
        "colab": {
          "base_uri": "https://localhost:8080/"
        }
      },
      "outputs": [
        {
          "output_type": "execute_result",
          "data": {
            "text/plain": [
              "[40, 41, 42, 43, 44, 45]"
            ]
          },
          "metadata": {},
          "execution_count": 10
        }
      ],
      "source": [
        "data = list(range(40,46))\n",
        "data"
      ]
    },
    {
      "cell_type": "markdown",
      "source": [
        "- Create the first function\n"
      ],
      "metadata": {
        "id": "HW_PaGGwWfCf"
      }
    },
    {
      "cell_type": "code",
      "source": [
        "def func(x):\n",
        "  return x+7"
      ],
      "metadata": {
        "id": "OBmP8qxsWfCf"
      },
      "execution_count": 11,
      "outputs": []
    },
    {
      "cell_type": "markdown",
      "source": [
        "- Create the second function\n"
      ],
      "metadata": {
        "id": "Wo5iJnGqWfCg"
      }
    },
    {
      "cell_type": "code",
      "source": [
        "def func2(x):\n",
        "  return x**7"
      ],
      "metadata": {
        "id": "edwO4CCLWfCg"
      },
      "execution_count": 12,
      "outputs": []
    },
    {
      "cell_type": "markdown",
      "source": [
        "- Normal way to put second function into first function"
      ],
      "metadata": {
        "id": "1UKZolJXWfCg"
      }
    },
    {
      "cell_type": "code",
      "source": [
        "func(func2(2))"
      ],
      "metadata": {
        "id": "XPYGqG7mWfCg",
        "outputId": "d6ba65fc-539c-4a08-8af4-30a60a10f0c3",
        "colab": {
          "base_uri": "https://localhost:8080/"
        }
      },
      "execution_count": 13,
      "outputs": [
        {
          "output_type": "execute_result",
          "data": {
            "text/plain": [
              "135"
            ]
          },
          "metadata": {},
          "execution_count": 13
        }
      ]
    },
    {
      "cell_type": "markdown",
      "source": [
        "- Use lambda function to get same result by creating only one function\n",
        "- The advantage is that you don't have to define equations that you will only use a few times, thus simplifying the code\n",
        "\n",
        "\n"
      ],
      "metadata": {
        "id": "k_JA1OPoWfCg"
      }
    },
    {
      "cell_type": "code",
      "source": [
        "def func(x):\n",
        "  func2 = lambda x : x**7\n",
        "  return func2(x)+7\n",
        "\n",
        "func(2)"
      ],
      "metadata": {
        "id": "qnvC7ca-WfCh",
        "outputId": "77718a05-50cd-4be2-b742-9ffdb4a65487",
        "colab": {
          "base_uri": "https://localhost:8080/"
        }
      },
      "execution_count": 14,
      "outputs": [
        {
          "output_type": "execute_result",
          "data": {
            "text/plain": [
              "135"
            ]
          },
          "metadata": {},
          "execution_count": 14
        }
      ]
    },
    {
      "cell_type": "markdown",
      "source": [
        "- Lambda function can take any number of parameters.\n",
        "\n",
        "\n"
      ],
      "metadata": {
        "id": "1-xM_1wtWfCh"
      }
    },
    {
      "cell_type": "code",
      "source": [
        "del func2"
      ],
      "metadata": {
        "id": "qR56iwLk8njq"
      },
      "execution_count": 16,
      "outputs": []
    },
    {
      "cell_type": "code",
      "source": [
        "print(func2)"
      ],
      "metadata": {
        "id": "UHo7X7ch8kYH",
        "outputId": "cbfe7906-d0e7-4178-fab9-45aa4ee05eb3",
        "colab": {
          "base_uri": "https://localhost:8080/",
          "height": 180
        }
      },
      "execution_count": 17,
      "outputs": [
        {
          "output_type": "error",
          "ename": "NameError",
          "evalue": "name 'func2' is not defined",
          "traceback": [
            "\u001b[0;31m---------------------------------------------------------------------------\u001b[0m",
            "\u001b[0;31mNameError\u001b[0m                                 Traceback (most recent call last)",
            "\u001b[0;32m<ipython-input-17-e3f56c72ba5a>\u001b[0m in \u001b[0;36m<cell line: 0>\u001b[0;34m()\u001b[0m\n\u001b[0;32m----> 1\u001b[0;31m \u001b[0mprint\u001b[0m\u001b[0;34m(\u001b[0m\u001b[0mfunc2\u001b[0m\u001b[0;34m)\u001b[0m\u001b[0;34m\u001b[0m\u001b[0;34m\u001b[0m\u001b[0m\n\u001b[0m",
            "\u001b[0;31mNameError\u001b[0m: name 'func2' is not defined"
          ]
        }
      ]
    },
    {
      "cell_type": "code",
      "source": [
        "def func(x):\n",
        "  func2= lambda x: x**6\n",
        "  return func2(x)+7"
      ],
      "metadata": {
        "id": "TCJ3uVCZ9-6f"
      },
      "execution_count": 18,
      "outputs": []
    },
    {
      "cell_type": "code",
      "source": [
        "#print(func2)\n",
        "func(2)"
      ],
      "metadata": {
        "id": "dphEpzLf-If1",
        "outputId": "b4d8ae76-c488-4eee-bd99-d2b6f3697db3",
        "colab": {
          "base_uri": "https://localhost:8080/"
        }
      },
      "execution_count": 19,
      "outputs": [
        {
          "output_type": "execute_result",
          "data": {
            "text/plain": [
              "71"
            ]
          },
          "metadata": {},
          "execution_count": 19
        }
      ]
    },
    {
      "cell_type": "code",
      "source": [
        "func3 = lambda x,y : x+y\n",
        "func3(5,5)"
      ],
      "metadata": {
        "id": "KmF0ljwpWfCh",
        "outputId": "0859c9ec-bac7-4c98-be76-bb99433b9474",
        "colab": {
          "base_uri": "https://localhost:8080/"
        }
      },
      "execution_count": 6,
      "outputs": [
        {
          "output_type": "execute_result",
          "data": {
            "text/plain": [
              "10"
            ]
          },
          "metadata": {},
          "execution_count": 6
        }
      ]
    },
    {
      "cell_type": "markdown",
      "source": [
        "- You can also set the value of the lambda directly in its parameters\n"
      ],
      "metadata": {
        "id": "Ge590aS418TX"
      }
    },
    {
      "cell_type": "code",
      "source": [
        "func3 = lambda x,y=5 : x+y\n",
        "func3(5)"
      ],
      "metadata": {
        "id": "4AqMHHH82BEr",
        "outputId": "a0317352-84df-4207-fca4-63b52ad4632f",
        "colab": {
          "base_uri": "https://localhost:8080/"
        }
      },
      "execution_count": 7,
      "outputs": [
        {
          "output_type": "execute_result",
          "data": {
            "text/plain": [
              "10"
            ]
          },
          "metadata": {},
          "execution_count": 7
        }
      ]
    },
    {
      "cell_type": "markdown",
      "source": [
        "- Combine map function and lambda function"
      ],
      "metadata": {
        "id": "sAyU6aNF4krt"
      }
    },
    {
      "cell_type": "code",
      "source": [
        "a = [1,2,3,4,5,6,7,8,9]\n",
        "\n",
        "newlist = list(map(lambda x: x+7,a))\n",
        "\n",
        "newlist"
      ],
      "metadata": {
        "id": "O9_vmwdm4or-",
        "outputId": "bc967eda-ac17-44f0-ebd0-1174bc6c3456",
        "colab": {
          "base_uri": "https://localhost:8080/"
        }
      },
      "execution_count": 8,
      "outputs": [
        {
          "output_type": "execute_result",
          "data": {
            "text/plain": [
              "[8, 9, 10, 11, 12, 13, 14, 15, 16]"
            ]
          },
          "metadata": {},
          "execution_count": 8
        }
      ]
    },
    {
      "cell_type": "markdown",
      "source": [
        "- Combine filter and lambda function"
      ],
      "metadata": {
        "id": "f6E2HO7L9Ryp"
      }
    },
    {
      "cell_type": "code",
      "source": [
        "a = [1,2,3,4,5,6,7,8,9]\n",
        "\n",
        "newlist = list(filter(lambda x: x%2==0,a))\n",
        "\n",
        "newlist"
      ],
      "metadata": {
        "id": "aaHtAobQ9VXY",
        "outputId": "1a093b49-6b64-4dd8-c3ee-548678353b3e",
        "colab": {
          "base_uri": "https://localhost:8080/"
        }
      },
      "execution_count": 9,
      "outputs": [
        {
          "output_type": "execute_result",
          "data": {
            "text/plain": [
              "[2, 4, 6, 8]"
            ]
          },
          "metadata": {},
          "execution_count": 9
        }
      ]
    },
    {
      "cell_type": "markdown",
      "source": [
        "### Homework\n",
        "- Define a function `expo_list(input_list)`  that keeps the first inner list, square the second and cube the last one.\n",
        "   - E.g. `L = [[1, 2], [2, 3, 4], [5, 6, 7]]` `expo_list(L) => [[1, 2], [4, 9, 16], [125, 216, 343]]`"
      ],
      "metadata": {
        "id": "fM2yjaDi-OQW"
      }
    },
    {
      "cell_type": "code",
      "source": [
        "def expo_list(input_list):\n",
        "    \"\"\"\n",
        "    :param input_list: a nested list\n",
        "    :return: the first inner list, square the second and cube the last one\n",
        "    \"\"\"\n",
        "    pass"
      ],
      "metadata": {
        "id": "MySnO0MM6Das"
      },
      "execution_count": null,
      "outputs": []
    }
  ]
}