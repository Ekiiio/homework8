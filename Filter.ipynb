{
  "nbformat": 4,
  "nbformat_minor": 0,
  "metadata": {
    "colab": {
      "provenance": [],
      "include_colab_link": true
    },
    "kernelspec": {
      "name": "python3",
      "display_name": "Python 3"
    },
    "language_info": {
      "name": "python"
    }
  },
  "cells": [
    {
      "cell_type": "markdown",
      "metadata": {
        "id": "view-in-github",
        "colab_type": "text"
      },
      "source": [
        "<a href=\"https://colab.research.google.com/github/Ekiiio/homework8/blob/main/Filter.ipynb\" target=\"_parent\"><img src=\"https://colab.research.google.com/assets/colab-badge.svg\" alt=\"Open In Colab\"/></a>"
      ]
    },
    {
      "cell_type": "markdown",
      "source": [
        "## `filter` operator\n",
        "[Video](https://drive.google.com/file/d/10cW5Sa4PixcMTv_UmnUdY80i3DIC1ifU/view?usp=sharing)"
      ],
      "metadata": {
        "id": "tqJCrV0x6BCN"
      }
    },
    {
      "cell_type": "code",
      "source": [
        "#filter 的作用是从列表中筛选出符合条件的元素，并丢弃不符合条件的元素。\n",
        "#就像用筛子过滤沙子，只留下颗粒大小符合要求的沙子。\n"
      ],
      "metadata": {
        "id": "JZjI9RbD52a5"
      },
      "execution_count": null,
      "outputs": []
    },
    {
      "cell_type": "markdown",
      "source": [
        "- Create an example list"
      ],
      "metadata": {
        "id": "_3XlMcCyWXUT"
      }
    },
    {
      "cell_type": "code",
      "execution_count": 10,
      "metadata": {
        "id": "7vHhkVLsWXUc",
        "outputId": "17cc892f-e288-4913-b980-b5bd74fa4882",
        "colab": {
          "base_uri": "https://localhost:8080/"
        }
      },
      "outputs": [
        {
          "output_type": "execute_result",
          "data": {
            "text/plain": [
              "[40, 41, 42, 43, 44, 45]"
            ]
          },
          "metadata": {},
          "execution_count": 10
        }
      ],
      "source": [
        "data = list(range(40,46))\n",
        "data"
      ]
    },
    {
      "cell_type": "markdown",
      "source": [
        "- Create a boolean function (return whether the input is an odd number）\n",
        "\n"
      ],
      "metadata": {
        "id": "2PIuirvQWXUd"
      }
    },
    {
      "cell_type": "code",
      "source": [
        "def isodd (x):\n",
        "    return x%2 != 0"
      ],
      "metadata": {
        "id": "mLfRx1jSWXUd"
      },
      "execution_count": 12,
      "outputs": []
    },
    {
      "cell_type": "markdown",
      "source": [
        "- Input the list to the function doesn't work\n",
        "- *How to get the number which is right?*"
      ],
      "metadata": {
        "id": "BSM944F1WXUd"
      }
    },
    {
      "cell_type": "code",
      "source": [
        "isodd(data)"
      ],
      "metadata": {
        "id": "IHJK9Oj9WXUd",
        "outputId": "33e211b4-f663-4302-b0fd-17a6207ab6fa",
        "colab": {
          "base_uri": "https://localhost:8080/",
          "height": 251
        }
      },
      "execution_count": 13,
      "outputs": [
        {
          "output_type": "error",
          "ename": "TypeError",
          "evalue": "unsupported operand type(s) for %: 'list' and 'int'",
          "traceback": [
            "\u001b[0;31m---------------------------------------------------------------------------\u001b[0m",
            "\u001b[0;31mTypeError\u001b[0m                                 Traceback (most recent call last)",
            "\u001b[0;32m<ipython-input-13-7c29b6ae92fb>\u001b[0m in \u001b[0;36m<cell line: 0>\u001b[0;34m()\u001b[0m\n\u001b[0;32m----> 1\u001b[0;31m \u001b[0misodd\u001b[0m\u001b[0;34m(\u001b[0m\u001b[0mdata\u001b[0m\u001b[0;34m)\u001b[0m\u001b[0;34m\u001b[0m\u001b[0;34m\u001b[0m\u001b[0m\n\u001b[0m",
            "\u001b[0;32m<ipython-input-12-32b5ffdd5384>\u001b[0m in \u001b[0;36misodd\u001b[0;34m(x)\u001b[0m\n\u001b[1;32m      1\u001b[0m \u001b[0;32mdef\u001b[0m \u001b[0misodd\u001b[0m \u001b[0;34m(\u001b[0m\u001b[0mx\u001b[0m\u001b[0;34m)\u001b[0m\u001b[0;34m:\u001b[0m\u001b[0;34m\u001b[0m\u001b[0;34m\u001b[0m\u001b[0m\n\u001b[0;32m----> 2\u001b[0;31m     \u001b[0;32mreturn\u001b[0m \u001b[0mx\u001b[0m\u001b[0;34m%\u001b[0m\u001b[0;36m2\u001b[0m \u001b[0;34m!=\u001b[0m \u001b[0;36m0\u001b[0m\u001b[0;34m\u001b[0m\u001b[0;34m\u001b[0m\u001b[0m\n\u001b[0m",
            "\u001b[0;31mTypeError\u001b[0m: unsupported operand type(s) for %: 'list' and 'int'"
          ]
        }
      ]
    },
    {
      "cell_type": "markdown",
      "source": [
        "- Use `filter()` function to input list into function and return the number who can pass function\n",
        "\n",
        "- The filter formula takes two parameters, the formula and the data\n",
        "- You have to use the list() to turn the result of the filter formula into a list\n",
        "\n"
      ],
      "metadata": {
        "id": "C4sT2mOXWXUd"
      }
    },
    {
      "cell_type": "code",
      "source": [
        "list(filter(isodd,data))"
      ],
      "metadata": {
        "id": "E2psLtx_WXUd",
        "outputId": "45ca04d2-c827-4430-c779-dd6081dfec46",
        "colab": {
          "base_uri": "https://localhost:8080/"
        }
      },
      "execution_count": 14,
      "outputs": [
        {
          "output_type": "execute_result",
          "data": {
            "text/plain": [
              "[41, 43, 45]"
            ]
          },
          "metadata": {},
          "execution_count": 14
        }
      ]
    },
    {
      "cell_type": "markdown",
      "source": [
        "### Homework\n",
        "- Define a function `filter_list(input_list)` using filter to return all the lists whose length is equal to 3 from a nested list.\n",
        "   - E.g. `L = [[2, 5, 4, 9], [2, 2], [3, 4, 5]]` `filter_list(L) => [[3, 4, 5]]`"
      ],
      "metadata": {
        "id": "QmwPH_MhKbr7"
      }
    },
    {
      "cell_type": "code",
      "source": [
        "L = [[2, 5, 4, 9], [2, 2], [3, 4, 5]]\n",
        "def eq3(x):\n",
        "  return len(x)==3\n",
        "\n",
        "  eq(L[2])\n"
      ],
      "metadata": {
        "id": "c7XQ8e2M66Ch"
      },
      "execution_count": 15,
      "outputs": []
    },
    {
      "cell_type": "code",
      "source": [
        "def filter_list(input_list):\n",
        "    \"\"\"\n",
        "    :param input_list: a nested list\n",
        "    :return: all the lists whose length is 3 from a nested list\n",
        "    \"\"\"\n",
        "    # Your code here\n",
        "    pass"
      ],
      "metadata": {
        "id": "ahVj5LDDKpa6"
      },
      "execution_count": null,
      "outputs": []
    }
  ]
}